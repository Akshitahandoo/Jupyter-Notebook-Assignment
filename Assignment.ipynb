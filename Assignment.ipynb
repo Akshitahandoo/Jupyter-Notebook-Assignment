{
 "cells": [
  {
   "cell_type": "code",
   "execution_count": 2,
   "id": "c6a3c44f-43ff-415e-8804-60f5ddd49cd5",
   "metadata": {},
   "outputs": [],
   "source": [
    "#Akshita Handoo-RA2011026030083"
   ]
  },
  {
   "cell_type": "code",
   "execution_count": 3,
   "id": "3d3fa139-584e-4e2d-83ea-ce20d9113045",
   "metadata": {},
   "outputs": [],
   "source": [
    "import pandas as pd\n",
    "from sklearn.model_selection import train_test_split\n",
    "from sklearn.preprocessing import StandardScaler\n",
    "from sklearn.linear_model import LogisticRegression\n",
    "from sklearn.metrics import accuracy_score, classification_report, confusion_matrix"
   ]
  },
  {
   "cell_type": "code",
   "execution_count": 4,
   "id": "440425ca-2f97-4816-b8e9-631b5beae9d6",
   "metadata": {},
   "outputs": [
    {
     "data": {
      "text/html": [
       "<div>\n",
       "<style scoped>\n",
       "    .dataframe tbody tr th:only-of-type {\n",
       "        vertical-align: middle;\n",
       "    }\n",
       "\n",
       "    .dataframe tbody tr th {\n",
       "        vertical-align: top;\n",
       "    }\n",
       "\n",
       "    .dataframe thead th {\n",
       "        text-align: right;\n",
       "    }\n",
       "</style>\n",
       "<table border=\"1\" class=\"dataframe\">\n",
       "  <thead>\n",
       "    <tr style=\"text-align: right;\">\n",
       "      <th></th>\n",
       "      <th>MEMBERSHIP_NUMBER</th>\n",
       "      <th>MEMBERSHIP_TERM_YEARS</th>\n",
       "      <th>ANNUAL_FEES</th>\n",
       "      <th>MEMBER_MARITAL_STATUS</th>\n",
       "      <th>MEMBER_GENDER</th>\n",
       "      <th>MEMBER_ANNUAL_INCOME</th>\n",
       "      <th>MEMBER_OCCUPATION_CD</th>\n",
       "      <th>MEMBERSHIP_PACKAGE</th>\n",
       "      <th>MEMBER_AGE_AT_ISSUE</th>\n",
       "      <th>ADDITIONAL_MEMBERS</th>\n",
       "      <th>PAYMENT_MODE</th>\n",
       "      <th>AGENT_CODE</th>\n",
       "      <th>MEMBERSHIP_STATUS</th>\n",
       "      <th>START_DATE (YYYYMMDD)</th>\n",
       "      <th>END_DATE  (YYYYMMDD)</th>\n",
       "    </tr>\n",
       "  </thead>\n",
       "  <tbody>\n",
       "    <tr>\n",
       "      <th>0</th>\n",
       "      <td>A00001</td>\n",
       "      <td>29</td>\n",
       "      <td>113125.0</td>\n",
       "      <td>M</td>\n",
       "      <td>M</td>\n",
       "      <td>25200000.0</td>\n",
       "      <td>1.0</td>\n",
       "      <td>TYPE-B</td>\n",
       "      <td>45</td>\n",
       "      <td>2</td>\n",
       "      <td>ANNUAL</td>\n",
       "      <td>477</td>\n",
       "      <td>INFORCE</td>\n",
       "      <td>20060914</td>\n",
       "      <td>NaN</td>\n",
       "    </tr>\n",
       "    <tr>\n",
       "      <th>1</th>\n",
       "      <td>A00002</td>\n",
       "      <td>38</td>\n",
       "      <td>112220.0</td>\n",
       "      <td>M</td>\n",
       "      <td>M</td>\n",
       "      <td>10339200.0</td>\n",
       "      <td>1.0</td>\n",
       "      <td>TYPE-B</td>\n",
       "      <td>36</td>\n",
       "      <td>3</td>\n",
       "      <td>QUARTERLY</td>\n",
       "      <td>255</td>\n",
       "      <td>INFORCE</td>\n",
       "      <td>20061102</td>\n",
       "      <td>NaN</td>\n",
       "    </tr>\n",
       "    <tr>\n",
       "      <th>2</th>\n",
       "      <td>A00003</td>\n",
       "      <td>12</td>\n",
       "      <td>100000.0</td>\n",
       "      <td>M</td>\n",
       "      <td>M</td>\n",
       "      <td>14400000.0</td>\n",
       "      <td>1.0</td>\n",
       "      <td>TYPE-B</td>\n",
       "      <td>42</td>\n",
       "      <td>1</td>\n",
       "      <td>ANNUAL</td>\n",
       "      <td>7866</td>\n",
       "      <td>INFORCE</td>\n",
       "      <td>20070124</td>\n",
       "      <td>NaN</td>\n",
       "    </tr>\n",
       "    <tr>\n",
       "      <th>3</th>\n",
       "      <td>A00004</td>\n",
       "      <td>12</td>\n",
       "      <td>100000.0</td>\n",
       "      <td>M</td>\n",
       "      <td>M</td>\n",
       "      <td>9000000.0</td>\n",
       "      <td>1.0</td>\n",
       "      <td>TYPE-B</td>\n",
       "      <td>39</td>\n",
       "      <td>2</td>\n",
       "      <td>ANNUAL</td>\n",
       "      <td>200533</td>\n",
       "      <td>INFORCE</td>\n",
       "      <td>20070122</td>\n",
       "      <td>NaN</td>\n",
       "    </tr>\n",
       "    <tr>\n",
       "      <th>4</th>\n",
       "      <td>A00005</td>\n",
       "      <td>46</td>\n",
       "      <td>100000.0</td>\n",
       "      <td>M</td>\n",
       "      <td>M</td>\n",
       "      <td>4800000.0</td>\n",
       "      <td>1.0</td>\n",
       "      <td>TYPE-B</td>\n",
       "      <td>27</td>\n",
       "      <td>2</td>\n",
       "      <td>QUARTERLY</td>\n",
       "      <td>6988</td>\n",
       "      <td>INFORCE</td>\n",
       "      <td>20070131</td>\n",
       "      <td>NaN</td>\n",
       "    </tr>\n",
       "  </tbody>\n",
       "</table>\n",
       "</div>"
      ],
      "text/plain": [
       "  MEMBERSHIP_NUMBER  MEMBERSHIP_TERM_YEARS  ANNUAL_FEES MEMBER_MARITAL_STATUS  \\\n",
       "0            A00001                     29     113125.0                     M   \n",
       "1            A00002                     38     112220.0                     M   \n",
       "2            A00003                     12     100000.0                     M   \n",
       "3            A00004                     12     100000.0                     M   \n",
       "4            A00005                     46     100000.0                     M   \n",
       "\n",
       "  MEMBER_GENDER  MEMBER_ANNUAL_INCOME  MEMBER_OCCUPATION_CD  \\\n",
       "0             M            25200000.0                   1.0   \n",
       "1             M            10339200.0                   1.0   \n",
       "2             M            14400000.0                   1.0   \n",
       "3             M             9000000.0                   1.0   \n",
       "4             M             4800000.0                   1.0   \n",
       "\n",
       "  MEMBERSHIP_PACKAGE  MEMBER_AGE_AT_ISSUE  ADDITIONAL_MEMBERS PAYMENT_MODE  \\\n",
       "0             TYPE-B                   45                   2       ANNUAL   \n",
       "1             TYPE-B                   36                   3    QUARTERLY   \n",
       "2             TYPE-B                   42                   1       ANNUAL   \n",
       "3             TYPE-B                   39                   2       ANNUAL   \n",
       "4             TYPE-B                   27                   2    QUARTERLY   \n",
       "\n",
       "  AGENT_CODE MEMBERSHIP_STATUS  START_DATE (YYYYMMDD)  END_DATE  (YYYYMMDD)  \n",
       "0        477           INFORCE               20060914                   NaN  \n",
       "1        255           INFORCE               20061102                   NaN  \n",
       "2       7866           INFORCE               20070124                   NaN  \n",
       "3     200533           INFORCE               20070122                   NaN  \n",
       "4       6988           INFORCE               20070131                   NaN  "
      ]
     },
     "execution_count": 4,
     "metadata": {},
     "output_type": "execute_result"
    }
   ],
   "source": [
    "df = pd.read_csv(r'c:\\Dataset.csv')\n",
    "df.head(5)"
   ]
  },
  {
   "cell_type": "code",
   "execution_count": 5,
   "id": "754d6c91-1137-4a10-a7db-910aaa43bb3d",
   "metadata": {},
   "outputs": [
    {
     "data": {
      "text/plain": [
       "MEMBERSHIP_NUMBER         object\n",
       "MEMBERSHIP_TERM_YEARS      int64\n",
       "ANNUAL_FEES              float64\n",
       "MEMBER_MARITAL_STATUS     object\n",
       "MEMBER_GENDER             object\n",
       "MEMBER_ANNUAL_INCOME     float64\n",
       "MEMBER_OCCUPATION_CD     float64\n",
       "MEMBERSHIP_PACKAGE        object\n",
       "MEMBER_AGE_AT_ISSUE        int64\n",
       "ADDITIONAL_MEMBERS         int64\n",
       "PAYMENT_MODE              object\n",
       "AGENT_CODE                object\n",
       "MEMBERSHIP_STATUS         object\n",
       "START_DATE (YYYYMMDD)      int64\n",
       "END_DATE  (YYYYMMDD)     float64\n",
       "dtype: object"
      ]
     },
     "execution_count": 5,
     "metadata": {},
     "output_type": "execute_result"
    }
   ],
   "source": [
    "df.dtypes"
   ]
  },
  {
   "cell_type": "code",
   "execution_count": 6,
   "id": "37366049-2339-4af5-86fd-e44bac75ff29",
   "metadata": {},
   "outputs": [
    {
     "data": {
      "text/html": [
       "<div>\n",
       "<style scoped>\n",
       "    .dataframe tbody tr th:only-of-type {\n",
       "        vertical-align: middle;\n",
       "    }\n",
       "\n",
       "    .dataframe tbody tr th {\n",
       "        vertical-align: top;\n",
       "    }\n",
       "\n",
       "    .dataframe thead th {\n",
       "        text-align: right;\n",
       "    }\n",
       "</style>\n",
       "<table border=\"1\" class=\"dataframe\">\n",
       "  <thead>\n",
       "    <tr style=\"text-align: right;\">\n",
       "      <th></th>\n",
       "      <th>MEMBERSHIP_TERM_YEARS</th>\n",
       "      <th>MEMBER_AGE_AT_ISSUE</th>\n",
       "      <th>ADDITIONAL_MEMBERS</th>\n",
       "      <th>MEMBERSHIP_STATUS</th>\n",
       "      <th>START_DATE (YYYYMMDD)</th>\n",
       "    </tr>\n",
       "  </thead>\n",
       "  <tbody>\n",
       "    <tr>\n",
       "      <th>0</th>\n",
       "      <td>29</td>\n",
       "      <td>45</td>\n",
       "      <td>2</td>\n",
       "      <td>INFORCE</td>\n",
       "      <td>20060914</td>\n",
       "    </tr>\n",
       "    <tr>\n",
       "      <th>1</th>\n",
       "      <td>38</td>\n",
       "      <td>36</td>\n",
       "      <td>3</td>\n",
       "      <td>INFORCE</td>\n",
       "      <td>20061102</td>\n",
       "    </tr>\n",
       "    <tr>\n",
       "      <th>2</th>\n",
       "      <td>12</td>\n",
       "      <td>42</td>\n",
       "      <td>1</td>\n",
       "      <td>INFORCE</td>\n",
       "      <td>20070124</td>\n",
       "    </tr>\n",
       "    <tr>\n",
       "      <th>3</th>\n",
       "      <td>12</td>\n",
       "      <td>39</td>\n",
       "      <td>2</td>\n",
       "      <td>INFORCE</td>\n",
       "      <td>20070122</td>\n",
       "    </tr>\n",
       "    <tr>\n",
       "      <th>4</th>\n",
       "      <td>46</td>\n",
       "      <td>27</td>\n",
       "      <td>2</td>\n",
       "      <td>INFORCE</td>\n",
       "      <td>20070131</td>\n",
       "    </tr>\n",
       "  </tbody>\n",
       "</table>\n",
       "</div>"
      ],
      "text/plain": [
       "   MEMBERSHIP_TERM_YEARS  MEMBER_AGE_AT_ISSUE  ADDITIONAL_MEMBERS  \\\n",
       "0                     29                   45                   2   \n",
       "1                     38                   36                   3   \n",
       "2                     12                   42                   1   \n",
       "3                     12                   39                   2   \n",
       "4                     46                   27                   2   \n",
       "\n",
       "  MEMBERSHIP_STATUS  START_DATE (YYYYMMDD)  \n",
       "0           INFORCE               20060914  \n",
       "1           INFORCE               20061102  \n",
       "2           INFORCE               20070124  \n",
       "3           INFORCE               20070122  \n",
       "4           INFORCE               20070131  "
      ]
     },
     "execution_count": 6,
     "metadata": {},
     "output_type": "execute_result"
    }
   ],
   "source": [
    "columns_to_drop = ['MEMBERSHIP_NUMBER','MEMBER_MARITAL_STATUS', 'MEMBER_GENDER','MEMBERSHIP_PACKAGE','PAYMENT_MODE','AGENT_CODE','END_DATE  (YYYYMMDD)','ANNUAL_FEES','MEMBER_ANNUAL_INCOME','MEMBER_OCCUPATION_CD']\n",
    "df.drop(columns=columns_to_drop,inplace=True)\n",
    "df.head()"
   ]
  },
  {
   "cell_type": "code",
   "execution_count": 7,
   "id": "c970c095-0128-4ad4-a7c2-8f168c729382",
   "metadata": {},
   "outputs": [
    {
     "data": {
      "text/plain": [
       "MEMBERSHIP_TERM_YEARS     int64\n",
       "MEMBER_AGE_AT_ISSUE       int64\n",
       "ADDITIONAL_MEMBERS        int64\n",
       "MEMBERSHIP_STATUS        object\n",
       "START_DATE (YYYYMMDD)     int64\n",
       "dtype: object"
      ]
     },
     "execution_count": 7,
     "metadata": {},
     "output_type": "execute_result"
    }
   ],
   "source": [
    "df.dtypes"
   ]
  },
  {
   "cell_type": "code",
   "execution_count": 8,
   "id": "a3ce722b-8275-4a8c-9fb9-e9b39509c996",
   "metadata": {},
   "outputs": [],
   "source": [
    "mapping = {'INFORCE': 1, 'CANCELLED': 0}"
   ]
  },
  {
   "cell_type": "code",
   "execution_count": 9,
   "id": "a9351903-ec76-4ea7-93d7-97a196d941d6",
   "metadata": {},
   "outputs": [],
   "source": [
    "df['MEMBERSHIP_STATUS'] = df['MEMBERSHIP_STATUS'].map(mapping)"
   ]
  },
  {
   "cell_type": "code",
   "execution_count": 10,
   "id": "cdaa47e9-0163-4a36-bbf3-b52df92bcbaf",
   "metadata": {},
   "outputs": [],
   "source": [
    "X = df.drop('MEMBERSHIP_STATUS', axis=1)\n",
    "y = df['MEMBERSHIP_STATUS']"
   ]
  },
  {
   "cell_type": "code",
   "execution_count": 11,
   "id": "b2dde801-10b8-43c5-bc29-ecda637a8107",
   "metadata": {},
   "outputs": [
    {
     "data": {
      "text/html": [
       "<div>\n",
       "<style scoped>\n",
       "    .dataframe tbody tr th:only-of-type {\n",
       "        vertical-align: middle;\n",
       "    }\n",
       "\n",
       "    .dataframe tbody tr th {\n",
       "        vertical-align: top;\n",
       "    }\n",
       "\n",
       "    .dataframe thead th {\n",
       "        text-align: right;\n",
       "    }\n",
       "</style>\n",
       "<table border=\"1\" class=\"dataframe\">\n",
       "  <thead>\n",
       "    <tr style=\"text-align: right;\">\n",
       "      <th></th>\n",
       "      <th>MEMBERSHIP_TERM_YEARS</th>\n",
       "      <th>MEMBER_AGE_AT_ISSUE</th>\n",
       "      <th>ADDITIONAL_MEMBERS</th>\n",
       "      <th>START_DATE (YYYYMMDD)</th>\n",
       "    </tr>\n",
       "  </thead>\n",
       "  <tbody>\n",
       "    <tr>\n",
       "      <th>0</th>\n",
       "      <td>29</td>\n",
       "      <td>45</td>\n",
       "      <td>2</td>\n",
       "      <td>20060914</td>\n",
       "    </tr>\n",
       "    <tr>\n",
       "      <th>1</th>\n",
       "      <td>38</td>\n",
       "      <td>36</td>\n",
       "      <td>3</td>\n",
       "      <td>20061102</td>\n",
       "    </tr>\n",
       "    <tr>\n",
       "      <th>2</th>\n",
       "      <td>12</td>\n",
       "      <td>42</td>\n",
       "      <td>1</td>\n",
       "      <td>20070124</td>\n",
       "    </tr>\n",
       "    <tr>\n",
       "      <th>3</th>\n",
       "      <td>12</td>\n",
       "      <td>39</td>\n",
       "      <td>2</td>\n",
       "      <td>20070122</td>\n",
       "    </tr>\n",
       "    <tr>\n",
       "      <th>4</th>\n",
       "      <td>46</td>\n",
       "      <td>27</td>\n",
       "      <td>2</td>\n",
       "      <td>20070131</td>\n",
       "    </tr>\n",
       "  </tbody>\n",
       "</table>\n",
       "</div>"
      ],
      "text/plain": [
       "   MEMBERSHIP_TERM_YEARS  MEMBER_AGE_AT_ISSUE  ADDITIONAL_MEMBERS  \\\n",
       "0                     29                   45                   2   \n",
       "1                     38                   36                   3   \n",
       "2                     12                   42                   1   \n",
       "3                     12                   39                   2   \n",
       "4                     46                   27                   2   \n",
       "\n",
       "   START_DATE (YYYYMMDD)  \n",
       "0               20060914  \n",
       "1               20061102  \n",
       "2               20070124  \n",
       "3               20070122  \n",
       "4               20070131  "
      ]
     },
     "execution_count": 11,
     "metadata": {},
     "output_type": "execute_result"
    }
   ],
   "source": [
    "X.head()"
   ]
  },
  {
   "cell_type": "code",
   "execution_count": 12,
   "id": "1aa44809-8875-471a-9472-12943c3704d4",
   "metadata": {},
   "outputs": [
    {
     "data": {
      "text/plain": [
       "MEMBERSHIP_TERM_YEARS    int64\n",
       "MEMBER_AGE_AT_ISSUE      int64\n",
       "ADDITIONAL_MEMBERS       int64\n",
       "MEMBERSHIP_STATUS        int64\n",
       "START_DATE (YYYYMMDD)    int64\n",
       "dtype: object"
      ]
     },
     "execution_count": 12,
     "metadata": {},
     "output_type": "execute_result"
    }
   ],
   "source": [
    "df.dtypes"
   ]
  },
  {
   "cell_type": "code",
   "execution_count": 13,
   "id": "05345458-0af4-43bf-8579-0e8d737e9e2b",
   "metadata": {},
   "outputs": [
    {
     "data": {
      "text/plain": [
       "0        1\n",
       "1        1\n",
       "2        1\n",
       "3        1\n",
       "4        1\n",
       "        ..\n",
       "10357    1\n",
       "10358    1\n",
       "10359    1\n",
       "10360    1\n",
       "10361    1\n",
       "Name: MEMBERSHIP_STATUS, Length: 10362, dtype: int64"
      ]
     },
     "execution_count": 13,
     "metadata": {},
     "output_type": "execute_result"
    }
   ],
   "source": [
    "y"
   ]
  },
  {
   "cell_type": "code",
   "execution_count": 14,
   "id": "8507782d-c9e2-4b4a-a9c2-63e183dbd753",
   "metadata": {},
   "outputs": [],
   "source": [
    "X_train, X_test, y_train, y_test = train_test_split(X, y, test_size=0.2, random_state=42)"
   ]
  },
  {
   "cell_type": "code",
   "execution_count": 15,
   "id": "785870f5-61ff-4719-aaab-f8a92a823ff7",
   "metadata": {},
   "outputs": [],
   "source": [
    "scaler = StandardScaler()\n",
    "X_train_scaled = scaler.fit_transform(X_train)\n",
    "X_test_scaled = scaler.transform(X_test)\n"
   ]
  },
  {
   "cell_type": "code",
   "execution_count": 16,
   "id": "6f6a8863-0d37-4698-b0b5-f6976a794e5c",
   "metadata": {},
   "outputs": [],
   "source": [
    "model = LogisticRegression()"
   ]
  },
  {
   "cell_type": "code",
   "execution_count": 17,
   "id": "263abd0c-4a20-4694-b44d-ae704aff6735",
   "metadata": {},
   "outputs": [
    {
     "data": {
      "text/html": [
       "<style>#sk-container-id-1 {color: black;}#sk-container-id-1 pre{padding: 0;}#sk-container-id-1 div.sk-toggleable {background-color: white;}#sk-container-id-1 label.sk-toggleable__label {cursor: pointer;display: block;width: 100%;margin-bottom: 0;padding: 0.3em;box-sizing: border-box;text-align: center;}#sk-container-id-1 label.sk-toggleable__label-arrow:before {content: \"▸\";float: left;margin-right: 0.25em;color: #696969;}#sk-container-id-1 label.sk-toggleable__label-arrow:hover:before {color: black;}#sk-container-id-1 div.sk-estimator:hover label.sk-toggleable__label-arrow:before {color: black;}#sk-container-id-1 div.sk-toggleable__content {max-height: 0;max-width: 0;overflow: hidden;text-align: left;background-color: #f0f8ff;}#sk-container-id-1 div.sk-toggleable__content pre {margin: 0.2em;color: black;border-radius: 0.25em;background-color: #f0f8ff;}#sk-container-id-1 input.sk-toggleable__control:checked~div.sk-toggleable__content {max-height: 200px;max-width: 100%;overflow: auto;}#sk-container-id-1 input.sk-toggleable__control:checked~label.sk-toggleable__label-arrow:before {content: \"▾\";}#sk-container-id-1 div.sk-estimator input.sk-toggleable__control:checked~label.sk-toggleable__label {background-color: #d4ebff;}#sk-container-id-1 div.sk-label input.sk-toggleable__control:checked~label.sk-toggleable__label {background-color: #d4ebff;}#sk-container-id-1 input.sk-hidden--visually {border: 0;clip: rect(1px 1px 1px 1px);clip: rect(1px, 1px, 1px, 1px);height: 1px;margin: -1px;overflow: hidden;padding: 0;position: absolute;width: 1px;}#sk-container-id-1 div.sk-estimator {font-family: monospace;background-color: #f0f8ff;border: 1px dotted black;border-radius: 0.25em;box-sizing: border-box;margin-bottom: 0.5em;}#sk-container-id-1 div.sk-estimator:hover {background-color: #d4ebff;}#sk-container-id-1 div.sk-parallel-item::after {content: \"\";width: 100%;border-bottom: 1px solid gray;flex-grow: 1;}#sk-container-id-1 div.sk-label:hover label.sk-toggleable__label {background-color: #d4ebff;}#sk-container-id-1 div.sk-serial::before {content: \"\";position: absolute;border-left: 1px solid gray;box-sizing: border-box;top: 0;bottom: 0;left: 50%;z-index: 0;}#sk-container-id-1 div.sk-serial {display: flex;flex-direction: column;align-items: center;background-color: white;padding-right: 0.2em;padding-left: 0.2em;position: relative;}#sk-container-id-1 div.sk-item {position: relative;z-index: 1;}#sk-container-id-1 div.sk-parallel {display: flex;align-items: stretch;justify-content: center;background-color: white;position: relative;}#sk-container-id-1 div.sk-item::before, #sk-container-id-1 div.sk-parallel-item::before {content: \"\";position: absolute;border-left: 1px solid gray;box-sizing: border-box;top: 0;bottom: 0;left: 50%;z-index: -1;}#sk-container-id-1 div.sk-parallel-item {display: flex;flex-direction: column;z-index: 1;position: relative;background-color: white;}#sk-container-id-1 div.sk-parallel-item:first-child::after {align-self: flex-end;width: 50%;}#sk-container-id-1 div.sk-parallel-item:last-child::after {align-self: flex-start;width: 50%;}#sk-container-id-1 div.sk-parallel-item:only-child::after {width: 0;}#sk-container-id-1 div.sk-dashed-wrapped {border: 1px dashed gray;margin: 0 0.4em 0.5em 0.4em;box-sizing: border-box;padding-bottom: 0.4em;background-color: white;}#sk-container-id-1 div.sk-label label {font-family: monospace;font-weight: bold;display: inline-block;line-height: 1.2em;}#sk-container-id-1 div.sk-label-container {text-align: center;}#sk-container-id-1 div.sk-container {/* jupyter's `normalize.less` sets `[hidden] { display: none; }` but bootstrap.min.css set `[hidden] { display: none !important; }` so we also need the `!important` here to be able to override the default hidden behavior on the sphinx rendered scikit-learn.org. See: https://github.com/scikit-learn/scikit-learn/issues/21755 */display: inline-block !important;position: relative;}#sk-container-id-1 div.sk-text-repr-fallback {display: none;}</style><div id=\"sk-container-id-1\" class=\"sk-top-container\"><div class=\"sk-text-repr-fallback\"><pre>LogisticRegression()</pre><b>In a Jupyter environment, please rerun this cell to show the HTML representation or trust the notebook. <br />On GitHub, the HTML representation is unable to render, please try loading this page with nbviewer.org.</b></div><div class=\"sk-container\" hidden><div class=\"sk-item\"><div class=\"sk-estimator sk-toggleable\"><input class=\"sk-toggleable__control sk-hidden--visually\" id=\"sk-estimator-id-1\" type=\"checkbox\" checked><label for=\"sk-estimator-id-1\" class=\"sk-toggleable__label sk-toggleable__label-arrow\">LogisticRegression</label><div class=\"sk-toggleable__content\"><pre>LogisticRegression()</pre></div></div></div></div></div>"
      ],
      "text/plain": [
       "LogisticRegression()"
      ]
     },
     "execution_count": 17,
     "metadata": {},
     "output_type": "execute_result"
    }
   ],
   "source": [
    "model.fit(X_train_scaled, y_train)"
   ]
  },
  {
   "cell_type": "code",
   "execution_count": 18,
   "id": "1c5f218d-d17e-49f0-91f0-0a81bf7a9e8c",
   "metadata": {},
   "outputs": [],
   "source": [
    "y_pred = model.predict(X_test_scaled)"
   ]
  },
  {
   "cell_type": "code",
   "execution_count": 19,
   "id": "6d64e9e1-675a-49bf-a155-e87b9d1286ad",
   "metadata": {},
   "outputs": [
    {
     "name": "stdout",
     "output_type": "stream",
     "text": [
      "Accuracy: 0.6975397973950795\n",
      "Confusion Matrix:\n",
      "[[  27  593]\n",
      " [  34 1419]]\n",
      "Classification Report:\n",
      "              precision    recall  f1-score   support\n",
      "\n",
      "           0       0.44      0.04      0.08       620\n",
      "           1       0.71      0.98      0.82      1453\n",
      "\n",
      "    accuracy                           0.70      2073\n",
      "   macro avg       0.57      0.51      0.45      2073\n",
      "weighted avg       0.63      0.70      0.60      2073\n",
      "\n"
     ]
    }
   ],
   "source": [
    "accuracy = accuracy_score(y_test, y_pred)\n",
    "conf_matrix = confusion_matrix(y_test, y_pred)\n",
    "classification_rep = classification_report(y_test, y_pred)\n",
    "\n",
    "print(f\"Accuracy: {accuracy}\")\n",
    "print(f\"Confusion Matrix:\\n{conf_matrix}\")\n",
    "print(f\"Classification Report:\\n{classification_rep}\")"
   ]
  },
  {
   "cell_type": "code",
   "execution_count": null,
   "id": "85ba956b-67b5-452d-a3ea-56808b74d6a1",
   "metadata": {},
   "outputs": [],
   "source": []
  }
 ],
 "metadata": {
  "kernelspec": {
   "display_name": "Python 3 (ipykernel)",
   "language": "python",
   "name": "python3"
  },
  "language_info": {
   "codemirror_mode": {
    "name": "ipython",
    "version": 3
   },
   "file_extension": ".py",
   "mimetype": "text/x-python",
   "name": "python",
   "nbconvert_exporter": "python",
   "pygments_lexer": "ipython3",
   "version": "3.12.0"
  }
 },
 "nbformat": 4,
 "nbformat_minor": 5
}
